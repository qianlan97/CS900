{
 "cells": [
  {
   "cell_type": "code",
   "execution_count": 1,
   "metadata": {},
   "outputs": [
    {
     "name": "stdout",
     "output_type": "stream",
     "text": [
      "Best parameters:\n",
      "Alpha (SDC Probability weight): 0.1\n",
      "Beta (Computation Type weight): 0.0\n",
      "Gamma (Data Size weight): 0.0\n",
      "Delta (Total Extra Time weight): 0.0\n"
     ]
    }
   ],
   "source": [
    "import numpy as np\n",
    "\n",
    "# Read the table data from the file\n",
    "table_data = []\n",
    "with open(\"table data.txt\", \"r\") as file:\n",
    "    lines = file.readlines()[1:]  # Skip the header line\n",
    "    for line in lines:\n",
    "        layer_data = line.strip().split()\n",
    "        layer_number = int(layer_data[1])\n",
    "        layer_type = layer_data[2]\n",
    "        sdc_probability = float(layer_data[3])\n",
    "        data_size = int(layer_data[4])\n",
    "        total_extra_time = float(layer_data[5])\n",
    "        table_data.append((layer_number, layer_type, sdc_probability, data_size, total_extra_time))\n",
    "\n",
    "# Normalize the factors\n",
    "max_sdc_probability = max(data[2] for data in table_data)\n",
    "max_data_size = max(data[3] for data in table_data)\n",
    "min_total_extra_time = min(data[4] for data in table_data)\n",
    "max_total_extra_time = max(data[4] for data in table_data)\n",
    "\n",
    "normalized_data = []\n",
    "for layer_number, layer_type, sdc_probability, data_size, total_extra_time in table_data:\n",
    "    normalized_sdc_probability = sdc_probability / max_sdc_probability\n",
    "    normalized_data_size = data_size / max_data_size\n",
    "    normalized_total_extra_time = (total_extra_time - min_total_extra_time) / (max_total_extra_time - min_total_extra_time) * 2 - 1\n",
    "    \n",
    "    # Assign computation type factor based on layer type\n",
    "    if layer_type in [\"Conv2d\", \"Linear\"]:\n",
    "        computation_type = 0.8  # Suitable for GPU execution\n",
    "    else:\n",
    "        computation_type = 0.2  # Suitable for TEE execution\n",
    "    \n",
    "    normalized_data.append((layer_number, normalized_sdc_probability, computation_type, normalized_data_size, normalized_total_extra_time))\n",
    "\n",
    "# Define the objective function for parameter optimization\n",
    "def objective_function(params):\n",
    "    alpha, beta, gamma, delta = params\n",
    "    total_costs = []\n",
    "    for layer_number, sdc_probability, computation_type, data_size, total_extra_time in normalized_data:\n",
    "        total_cost = alpha * sdc_probability + beta * computation_type + gamma * data_size + delta * total_extra_time\n",
    "        total_costs.append((layer_number, total_cost))\n",
    "    \n",
    "    total_costs.sort(key=lambda x: x[1], reverse=True)\n",
    "    top_11_layers = [layer[0] for layer in total_costs[:11]]\n",
    "    \n",
    "    partition_result = []\n",
    "    with open(\"partition result.txt\", \"r\") as file:\n",
    "        lines = file.readlines()\n",
    "        for line in lines:\n",
    "            if line.startswith(\"Label 'TEE':\"):\n",
    "                partition_result = [int(layer) for layer in line.split(\"[\")[1].split(\"]\")[0].split(\", \")]\n",
    "    \n",
    "    score = sum(layer in top_11_layers for layer in partition_result)\n",
    "    return -score  # Negative score for minimization\n",
    "\n",
    "# Perform parameter optimization using grid search\n",
    "alpha_values = np.linspace(0, 1, 11)\n",
    "beta_values = np.linspace(0, 1, 11)\n",
    "gamma_values = np.linspace(0, 1, 11)\n",
    "delta_values = np.linspace(0, 1, 11)\n",
    "\n",
    "best_params = None\n",
    "best_score = float(\"inf\")\n",
    "\n",
    "for alpha in alpha_values:\n",
    "    for beta in beta_values:\n",
    "        for gamma in gamma_values:\n",
    "            for delta in delta_values:\n",
    "                params = (alpha, beta, gamma, delta)\n",
    "                score = objective_function(params)\n",
    "                if score < best_score:\n",
    "                    best_params = params\n",
    "                    best_score = score\n",
    "\n",
    "print(\"Best parameters:\")\n",
    "print(\"Alpha (SDC Probability weight):\", best_params[0])\n",
    "print(\"Beta (Computation Type weight):\", best_params[1])\n",
    "print(\"Gamma (Data Size weight):\", best_params[2])\n",
    "print(\"Delta (Total Extra Time weight):\", best_params[3])"
   ]
  },
  {
   "cell_type": "code",
   "execution_count": 3,
   "metadata": {},
   "outputs": [
    {
     "name": "stdout",
     "output_type": "stream",
     "text": [
      "Layers assigned to GPU: [1, 3, 4, 6, 7, 8, 10, 11, 13, 14, 15, 17, 18, 20, 21, 23, 24, 26, 27, 28, 30, 31, 32, 33, 34, 35, 36, 37, 39, 40, 41, 42, 43, 44, 45, 46, 47, 48, 49, 50, 51, 52, 53, 55, 56, 57, 58, 59, 60]\n",
      "Layers assigned to TEE: [2, 5, 9, 12, 16, 19, 22, 25, 29, 38, 54]\n"
     ]
    }
   ],
   "source": [
    "def assign_labels(params):\n",
    "    alpha, beta, gamma, delta = params\n",
    "    total_costs = []\n",
    "    for layer_number, sdc_probability, computation_type, data_size, total_extra_time in normalized_data:\n",
    "        total_cost = alpha * sdc_probability + beta * computation_type + gamma * data_size + delta * total_extra_time\n",
    "        total_costs.append((layer_number, total_cost))\n",
    "    \n",
    "    total_costs.sort(key=lambda x: x[1], reverse=True)\n",
    "    tee_layers = [layer[0] for layer in total_costs[:11]]\n",
    "    gpu_layers = [layer[0] for layer in total_costs[11:]]\n",
    "    \n",
    "    return gpu_layers, tee_layers\n",
    "\n",
    "\n",
    "test_params = (0.5, 0.5, 0.5, 0.5)  # Test parameters for demonstration\n",
    "\n",
    "# Assign labels to layers using the best parameters\n",
    "gpu_layers, tee_layers = assign_labels(best_params)\n",
    "\n",
    "print(\"Layers assigned to GPU:\", sorted(gpu_layers))\n",
    "print(\"Layers assigned to TEE:\", sorted(tee_layers))"
   ]
  }
 ],
 "metadata": {
  "kernelspec": {
   "display_name": "base",
   "language": "python",
   "name": "python3"
  },
  "language_info": {
   "codemirror_mode": {
    "name": "ipython",
    "version": 3
   },
   "file_extension": ".py",
   "mimetype": "text/x-python",
   "name": "python",
   "nbconvert_exporter": "python",
   "pygments_lexer": "ipython3",
   "version": "3.9.12"
  }
 },
 "nbformat": 4,
 "nbformat_minor": 2
}
